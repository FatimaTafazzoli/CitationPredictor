{
 "cells": [
  {
   "cell_type": "code",
   "execution_count": 2,
   "metadata": {
    "id": "K4iUmtUitpcH"
   },
   "outputs": [],
   "source": [
    "import numpy as np                \t\n",
    "import matplotlib.pyplot as plt   \t\n",
    "import pandas as pd               \t\n",
    "from sklearn.impute import SimpleImputer\n",
    "from sklearn.compose import ColumnTransformer\n",
    "from sklearn.preprocessing import OneHotEncoder\n",
    "from sklearn.model_selection import train_test_split\n",
    "import keras\n",
    "from keras.models import Sequential\n",
    "from keras.layers import Dense\n",
    "from keras.layers import LeakyReLU\n",
    "from tensorflow.keras import regularizers\n",
    "from sklearn.metrics import confusion_matrix, accuracy_score\n",
    "from sklearn.metrics import mean_squared_error\n",
    "from sklearn.metrics import mean_absolute_error\n",
    "from sklearn.metrics import r2_score\n",
    "from sklearn.metrics import accuracy_score\n"
   ]
  },
  {
   "cell_type": "code",
   "execution_count": 4,
   "metadata": {
    "id": "zOcgPvBouBYg"
   },
   "outputs": [
    {
     "name": "stdout",
     "output_type": "stream",
     "text": [
      "<class 'pandas.core.frame.DataFrame'>\n",
      "RangeIndex: 80237 entries, 0 to 80236\n",
      "Data columns (total 13 columns):\n",
      " #   Column        Non-Null Count  Dtype  \n",
      "---  ------        --------------  -----  \n",
      " 0   Unnamed: 0    80237 non-null  int64  \n",
      " 1   id            80237 non-null  int64  \n",
      " 2   diversity     80237 non-null  float64\n",
      " 3   venue_rank    80237 non-null  float64\n",
      " 4   venue_MPI     80237 non-null  int64  \n",
      " 5   venue_TPI     80237 non-null  int64  \n",
      " 6   productivity  80237 non-null  float64\n",
      " 7   H_index       80237 non-null  float64\n",
      " 8   author_rank   80237 non-null  float64\n",
      " 9   author_MPI    80237 non-null  float64\n",
      " 10  author_TPI    80237 non-null  float64\n",
      " 11  versatility   80237 non-null  float64\n",
      " 12  n_citation    80237 non-null  int64  \n",
      "dtypes: float64(8), int64(5)\n",
      "memory usage: 8.0 MB\n"
     ]
    }
   ],
   "source": [
    "dataset = pd.read_csv('features.csv')\n",
    "dataset.info()\n",
    "\n",
    "\n",
    "X = dataset.iloc[:, 2:12].values\n",
    "y = dataset.iloc[:, 12].values\n",
    "\n",
    "\n",
    "X_train, X_test, y_train, y_test = train_test_split(X,y , test_size = 0.20, random_state = 0)"
   ]
  },
  {
   "cell_type": "code",
   "execution_count": null,
   "metadata": {
    "id": "WiB4eyPkuK6P"
   },
   "outputs": [],
   "source": [
    "predictor  = Sequential()\n",
    "predictor.add(Dense(units =10, kernel_regularizer = regularizers.l2(0.003)))\n",
    "\n",
    "predictor.add(LeakyReLU(alpha = 0.0015))\n",
    "predictor.add(Dense(units = 30,kernel_regularizer = regularizers.l2(0.003)))\n",
    "predictor.add(LeakyReLU(alpha = 0.0015))\n",
    "predictor.add(Dense(units = 1,kernel_regularizer = regularizers.l2(0.003), activation='relu'))\n",
    "predictor.compile(optimizer = 'adam' , loss = 'mean_squared_error' , metrics = ['accuracy'])\n",
    "\n",
    "print(type(X_train))\n",
    "y_train = np.array(y_train)\n",
    "X_train = np.array(X_train)\n",
    "predictor.fit(X_train, y_train, batch_size = 64, epochs = 100)\n",
    "\n",
    "y_predict = predictor.predict(X_test)\n",
    "print(type(y_predict))"
   ]
  },
  {
   "cell_type": "code",
   "execution_count": null,
   "metadata": {
    "id": "-QyjeU8HuPXH"
   },
   "outputs": [],
   "source": [
    "X_test = np.array(X_test)\n",
    "accuracy = predictor.evaluate(X_test, y_test)\n",
    "print(accuracy)\n",
    "\n",
    "X_train = np.array(X_train)\n",
    "accuracy = predictor.evaluate(X_train, y_train)\n",
    "print(accuracy)\n",
    "\n",
    "y_predict = np.round(y_predict)\n",
    "\n",
    "y_diff = y_test - y_predict\n",
    "\n",
    "mean_squared_error(y_test,y_predict)\n",
    "print(mean_squared_error(y_test,y_predict))\n",
    "\n",
    "mean_absolute_error(y_test,y_predict)\n",
    "print(mean_absolute_error(y_test,y_predict))\n",
    "\n",
    "r2_score(y_test,y_predict)\n",
    "print(r2_score(y_test,y_predict))\n",
    "\n",
    "accuracy_score(y_test,y_predict)\n",
    "print(accuracy_score(y_test,y_predict))\n",
    "\n",
    "accuracy1 = predictor.evaluate(X_test, y_test)\n",
    "accuracy2 = predictor.evaluate(X_train, y_train)\n",
    "MSE = mean_squared_error(y_test,y_predict)\n",
    "MAE = mean_absolute_error(y_test,y_predict)"
   ]
  }
 ],
 "metadata": {
  "colab": {
   "authorship_tag": "ABX9TyNuTfcx3fynAR10rTtghsNe",
   "collapsed_sections": [],
   "name": "Model.ipynb",
   "provenance": []
  },
  "kernelspec": {
   "display_name": "Python 3",
   "language": "python",
   "name": "python3"
  },
  "language_info": {
   "codemirror_mode": {
    "name": "ipython",
    "version": 3
   },
   "file_extension": ".py",
   "mimetype": "text/x-python",
   "name": "python",
   "nbconvert_exporter": "python",
   "pygments_lexer": "ipython3",
   "version": "3.8.5"
  }
 },
 "nbformat": 4,
 "nbformat_minor": 1
}
